{
 "cells": [
  {
   "cell_type": "markdown",
   "metadata": {},
   "source": [
    "# Centeral Limit Theorem \n",
    "\n",
    "According to the centeral limit theorem (CLT), the sample means of a give dataset, as the size of the sample increases, will approximate the normal distibution. \n",
    "\n",
    "**Note**: \n",
    "- The samples should be suffcient in size.\n",
    "- The data should be samples randomle.\n",
    "- Samples should be independent from each other. \n",
    "\n",
    "\n",
    "# Normal Distribution\n",
    "\n",
    "NOT SURE IF WE WILL COVER IT SOMEWHERE ELSE. JUST ADDED HERE AS A TITLE FOR NOW\n",
    "\n",
    "\n"
   ]
  },
  {
   "cell_type": "code",
   "execution_count": null,
   "metadata": {},
   "outputs": [],
   "source": [
    "#some example with codes for CLT will come here"
   ]
  }
 ],
 "metadata": {
  "kernelspec": {
   "display_name": "Python 3",
   "language": "python",
   "name": "python3"
  },
  "language_info": {
   "codemirror_mode": {
    "name": "ipython",
    "version": 3
   },
   "file_extension": ".py",
   "mimetype": "text/x-python",
   "name": "python",
   "nbconvert_exporter": "python",
   "pygments_lexer": "ipython3",
   "version": "3.8.5"
  }
 },
 "nbformat": 4,
 "nbformat_minor": 4
}
