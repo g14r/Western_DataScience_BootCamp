{
 "cells": [
  {
   "cell_type": "markdown",
   "metadata": {},
   "source": [
    "# Linear Regression\n",
    "\n",
    "Review on supervised learning:\n",
    "- In supervised learning there is an input vector of features and a target which is also called response or output. \n",
    "- The goal is to learn a function that maps the input features to the target.\n",
    "\n",
    "In supervised learning, the linear regression is one the simplest but imortant models. In linear regression, we use a linear function of features to predict the target value. In the simplest case (1D), we only have one feature, and the linear equation can be written as: \n",
    "\n",
    "y = m*x + b\n",
    "\n",
    "where x is the feature and y is the target. This is the equation of line and depending on the choice of m and b, we can have different lines. The goal is to find m and b values such that we get the \"best\" line. \n",
    "\n",
    "The following example will clarify the idea. Lets assume we have a dataset (D) containing pairs of x and y values ($x_i, y_i$). For example our dataset is the following:\n",
    "\n",
    "D = {(0,2), (1,5), (2,8), (3,11), (4,14), (5,17), (6,20), (7,23), (8,28), (9,29)}\n",
    "\n",
    "Using dataset D we want to find $m$ and $b$ so that for a new point (for example x = 10), we can predict the target value. To do so, we need to define a function that evaluates how bad is our prediction (how far is our predeited value from the actual target value). The function is called **Cost Function**, and can be something of the form:\n",
    "\n",
    "$\\frac{1}{N}\\sum (y_{i} - \\hat{y_{i}})^2$\n",
    "\n",
    "where $\\hat{y_{i}}$ is the prediction and $y_{i}$ is the actual target value. So, we can find $m$ and $b$ in a way that the cost function become minimized. \n",
    "\n",
    "Thanksfully, Python has a free machine learning library which is called Scikit-learn where we can use a linear module to do the related math to minimze the loss function. During this BootCamp we are going to use Scikit-learn library. Here is the link to its official web page: https://scikit-learn.org/stable/index.html\n",
    "Forcusing on the linear regression, we are going to talk more about the linear regression module: our focus is to find the best m and b values for dataset D, and predict the output for x = 10: \n",
    "\n",
    "First we are hoing to write a very short code (contains 3 lines) to make our dataset D. Then, we use Scikit-learn library to find $m$ and $b$.  \n",
    " \n",
    "\n"
   ]
  },
  {
   "cell_type": "code",
   "execution_count": 2,
   "metadata": {},
   "outputs": [],
   "source": [
    "# we are using numpy library to make an array for x values. In the dataset D, \n",
    "# x values are ranging from 0 to 9 so we can make an array by using \n",
    "# np.arrange(min_value, max_value, step) \n",
    "import numpy as np\n",
    "x = np.arange(0,10,1)\n",
    "# We made a list of all y values as was presented in dataset D. \n",
    "y = [ 2,  5,  8, 11, 14, 17, 20, 23, 26, 29]\n",
    "# y is a python list and we should change it to a numpy array so we can do it as:\n",
    "y = np.array(y)\n",
    "# The sklearn.linear_model expects a 2D array so \n",
    "#we need to reshape our x and y arrays as follows"
   ]
  },
  {
   "cell_type": "code",
   "execution_count": 3,
   "metadata": {},
   "outputs": [],
   "source": [
    "# The sklearn.linear_model expects a 2D array so \n",
    "#we need to reshape our x and y arrays as follows:\n",
    "\n",
    "y_train = y.reshape(len(y),1)\n",
    "x_train = x.reshape(len(x),1)"
   ]
  },
  {
   "cell_type": "markdown",
   "metadata": {},
   "source": [
    "To import the module: from sklearn.linear_model import LinearRegression\n",
    "The methods we are going to use are as follows:\n",
    "\n",
    "- To fit the linear model we use: fit(x_train,y_train):\n",
    "- To predict the outcome for a new x: predict(x_test)\n",
    "\n"
   ]
  },
  {
   "cell_type": "code",
   "execution_count": 32,
   "metadata": {},
   "outputs": [
    {
     "name": "stdout",
     "output_type": "stream",
     "text": [
      "[[32.]]\n"
     ]
    }
   ],
   "source": [
    "# we are going to import the LinearRegression module \n",
    "from sklearn.linear_model import LinearRegression\n",
    "# Fits the linear model for our dataset D which contains x_train and y_train arrays\n",
    "reg = LinearRegression().fit(x_train, y_train )\n",
    "# Gives the m value which is also known as the coefficient of linear function\n",
    "m = reg.coef_\n",
    "# Gives the b value which is known as the intercept of the linear function \n",
    "b = reg.intercept_\n",
    "# Predicts the target value for an x value that has not seen in the training set (D). \n",
    "# We call this x_test\n",
    "x_test = 10\n",
    "prediction = reg.predict(np.array([[x_test]]))\n",
    "print(prediction)\n",
    "# This infact is the correct prediction the underlying function is y = 3*x + 2 so if x = 10 \n",
    "# we will get y = 32"
   ]
  },
  {
   "cell_type": "code",
   "execution_count": 35,
   "metadata": {},
   "outputs": [
    {
     "data": {
      "text/plain": [
       "<matplotlib.legend.Legend at 0x7f854ce82e50>"
      ]
     },
     "execution_count": 35,
     "metadata": {},
     "output_type": "execute_result"
    },
    {
     "data": {
      "image/png": "[encoded data removed]",
      "text/plain": [
       "<Figure size 432x288 with 1 Axes>"
      ]
     },
     "metadata": {
      "needs_background": "light"
     },
     "output_type": "display_data"
    }
   ],
   "source": [
    "# Here the scatter points are shown in blue (x and y values of the trainig set). \n",
    "# Using the calculted m and b, we can find the optimized line (red dotted line). \n",
    "# As is shown the line is perfect and going through all the points! \n",
    "\n",
    "import matplotlib.pyplot as plt\n",
    "plt.scatter(x_train,y_train, label = 'traing points')\n",
    "Y_pred = m*x_train + b\n",
    "plt.plot(x_train,y_train, '--r', label = 'best line')\n",
    "plt.legend()"
   ]
  },
  {
   "cell_type": "code",
   "execution_count": 6,
   "metadata": {},
   "outputs": [],
   "source": [
    "#This is a perfect exmaple, but normally the training set contains some noise.\n",
    "# Here we add a bit of noise into data! We add gaussian noise (a very common choice). \n",
    "# To add Gaussian (Normal) noise we can use numpy library (np.random.normal)."
   ]
  },
  {
   "cell_type": "code",
   "execution_count": 20,
   "metadata": {},
   "outputs": [],
   "source": [
    "# Adding noise to data\n",
    "noise = np.random.normal(0,1,len(x_train))\n",
    "x_with_noise = x+ noise\n",
    "x_with_noise = x_with_noise.reshape(len(x_with_noise),1)\n"
   ]
  },
  {
   "cell_type": "code",
   "execution_count": 33,
   "metadata": {},
   "outputs": [
    {
     "name": "stdout",
     "output_type": "stream",
     "text": [
      "[[30.24763158]]\n"
     ]
    }
   ],
   "source": [
    "# Now we repeat the regression model process but this time the x values are noise (x_with_noise). \n",
    "# so a new m and b values (corresponding to a line) are calculted.\n",
    "# Now, the y value predicted for x_test has become less perfect! \n",
    "from sklearn.linear_model import LinearRegression\n",
    "reg_noisy = LinearRegression().fit(x_with_noise, y_train )\n",
    "\n",
    "m_noisy = reg_noisy.coef_\n",
    "b_noisy = reg_noisy.intercept_\n",
    "x_test = 10\n",
    "prediction_noisy_data = reg_noisy.predict(np.array([[x_test]]))\n",
    "print(prediction_noisy_data)\n",
    "# The underlying function is still y = 3*x + 2 so if x = 10, we expect to get y = 32! \n",
    "# But, as the training data were noisy, now the prediction has become less perfect!  "
   ]
  },
  {
   "cell_type": "code",
   "execution_count": 36,
   "metadata": {},
   "outputs": [
    {
     "data": {
      "text/plain": [
       "<matplotlib.legend.Legend at 0x7f854ce76340>"
      ]
     },
     "execution_count": 36,
     "metadata": {},
     "output_type": "execute_result"
    },
    {
     "data": {
      "image/png": "[encoded data removed]",
      "text/plain": [
       "<Figure size 432x288 with 1 Axes>"
      ]
     },
     "metadata": {
      "needs_background": "light"
     },
     "output_type": "display_data"
    }
   ],
   "source": [
    "# Here again we shoe the training points (in blue) and show the \"best\" line. \n",
    "# You can obviously see the difference between this example and the case \n",
    "# where data were perfectly aligned. \n",
    "\n",
    "import matplotlib.pyplot as plt\n",
    "plt.scatter(x_with_noise,y_train, label = 'traing points')\n",
    "Y_pred = m*x_with_noise + b\n",
    "plt.plot(x_with_noise,Y_pred, '--r', label = 'best line')\n",
    "plt.legend()\n",
    "\n"
   ]
  },
  {
   "cell_type": "markdown",
   "metadata": {},
   "source": [
    "# The coefficient of determination ($R^2$)\n",
    "In real life applications we mostly deal with non perfect data with noise. It is also possible that data are not too noisy but in reality they dont follow a perfect line (they are not all alined in one line), still they can be estimated by a line. Perhaps the goodness of fit can help us if a linear regression is a good choice! \n",
    "\n",
    "\n",
    "The coefficient of determination ($R^2$) can be used as a diagnostic tool to determine if the linear regression has produces approppriate result. $R^2$ is defines as:\n",
    "\n",
    "$1 - \\frac{\\sum_i(y_{true}^i - y_{prediction}^i)^2}{\\sum_i(y_{true}^i - \\overline{y}_{true})^2}.$\n",
    "\n",
    "Where $y_{true}$ is the true value, and $y_{prediction}$ is the output of the regression model. The best possible score is 1 which indicates a perfect match between the predcitions and true values using a linear regression. Using Scikit-learn, we can calculate the $R^2$ by using the following command: \n",
    " \n"
   ]
  },
  {
   "cell_type": "code",
   "execution_count": 39,
   "metadata": {},
   "outputs": [
    {
     "name": "stdout",
     "output_type": "stream",
     "text": [
      "1.0\n",
      "0.8799320459685329\n"
     ]
    }
   ],
   "source": [
    "# Calculating $R^2$ score: \n",
    "print(reg.score(x_train, y_train))\n",
    "print(reg.score(x_with_noise, y_train))\n",
    "# Depending on the task the score above 90% considered excellent! "
   ]
  },
  {
   "cell_type": "code",
   "execution_count": null,
   "metadata": {},
   "outputs": [],
   "source": []
  }
 ],
 "metadata": {
  "kernelspec": {
   "display_name": "Python 3",
   "language": "python",
   "name": "python3"
  },
  "language_info": {
   "codemirror_mode": {
    "name": "ipython",
    "version": 3
   },
   "file_extension": ".py",
   "mimetype": "text/x-python",
   "name": "python",
   "nbconvert_exporter": "python",
   "pygments_lexer": "ipython3",
   "version": "3.8.5"
  }
 },
 "nbformat": 4,
 "nbformat_minor": 4
}
