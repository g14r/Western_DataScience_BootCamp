{
 "cells": [
  {
   "cell_type": "markdown",
   "metadata": {},
   "source": [
    "# Preliminary: This is a Jupyter Notebook!\n",
    "\n",
    "Notebooks allow the author to include both text and code in the same file. This part is text, but the next part is code:"
   ]
  },
  {
   "cell_type": "code",
   "execution_count": 1,
   "metadata": {},
   "outputs": [
    {
     "name": "stdout",
     "output_type": "stream",
     "text": [
      "Hello World!\n"
     ]
    }
   ],
   "source": [
    "print(\"Hello World!\")"
   ]
  },
  {
   "cell_type": "markdown",
   "metadata": {},
   "source": [
    "Notice how the output also showed up. This allows for **reproducible research**. The reader does not need to search around to find which code was used to calculate the values that appear in the paper or report. Increasingly, scientific papers are including Juptyer notebooks as supplementary material to their published academic papers. This makes peer review much easier and makes it easier for other authors to build on their work.\n",
    "\n",
    "The code cells must be run from within the notebook, then the output is saved. When notebooks are opened, the saved output is shown. If you change the code, the notebook will still show the saved output until the code is run again. This is convenient since code that takes a long time to run doesn't need to be run every time you open the notebook."
   ]
  },
  {
   "cell_type": "markdown",
   "metadata": {},
   "source": [
    "# Basic Introduction to Python for Data Science\n",
    "\n",
    "Python is a general-purpose language. There are tons of people using it for tons of different things in tons of different ways. We're going to go over some of the topics required for data science, but be warned that you'll find a wide variety of answers when you put your questions through the Google machine.\n",
    "\n",
    "Before we begin, some extraordinarily important rules for learning to code: \n",
    "\n",
    "1. NEVER COPY/PASTE\n",
    "    - You learn nothing unless you've written it yourself.\n",
    "2. ALWAYS CHECK THE RESULTS\n",
    "    - Python is interactive; interact with it! Look at what you created, find out what you can do with it, learn it's properties.\n",
    "3. SAVE OFTEN\n",
    "    - Should be self-explanatory. Python doesn't auto-save anything.\n",
    "4. BREAK IT\n",
    "    - At this level, there's very, very little that you can do that will affect your computer at all, let alone in a negative way. As long as you're SAVING YOUR CODE OFTEN, you can just reboot and fix any changes that you can't undo.\n",
    "5. TEACH IT\n",
    "    - Teaching it forces you to evaluate what you know and how well you know it. It also helps to create your own examples so that you can't just copy/paste code from what you've seen."
   ]
  },
  {
   "cell_type": "markdown",
   "metadata": {},
   "source": [
    "### Lists and 0-Indexing\n",
    "\n",
    "Python has many data types. We're going to focus on data frames later, but lists are a good introduction to how Python works. In the code below, we make a list and immediately display it."
   ]
  },
  {
   "cell_type": "code",
   "execution_count": 2,
   "metadata": {},
   "outputs": [
    {
     "data": {
      "text/plain": [
       "['1', 2, 3.0, True]"
      ]
     },
     "execution_count": 2,
     "metadata": {},
     "output_type": "execute_result"
    }
   ],
   "source": [
    "[\"1\", 2, 3.0, True]"
   ]
  },
  {
   "cell_type": "markdown",
   "metadata": {},
   "source": [
    "This list contains the number 1 (as a **string**), the number 2 (as an **integer**, which has no decimals), the number 3 (as a **float**, so Python expects decimals), and the value True (a **boolean**, i.e. either `True` or `False`). All **elements** of this list are different **types**, and Python does not need to change this.\n",
    "\n",
    "Python has already forgotton about that list. We created it, displayed it, then moved on. We never told Python to keep track of it. In order to do so, we **assign** the list to an **object**."
   ]
  },
  {
   "cell_type": "code",
   "execution_count": 3,
   "metadata": {},
   "outputs": [
    {
     "data": {
      "text/plain": [
       "['1', 2, 3.0, True]"
      ]
     },
     "execution_count": 3,
     "metadata": {},
     "output_type": "execute_result"
    }
   ],
   "source": [
    "my_list = [\"1\", 2, 3.0, True]\n",
    "# Type the name of an object to see what it contains:\n",
    "my_list"
   ]
  },
  {
   "cell_type": "markdown",
   "metadata": {},
   "source": [
    "Now Python will remember this list.\n",
    "\n",
    "In order to access the individual elements, we can use square brackets. "
   ]
  },
  {
   "cell_type": "code",
   "execution_count": 4,
   "metadata": {},
   "outputs": [
    {
     "data": {
      "text/plain": [
       "2"
      ]
     },
     "execution_count": 4,
     "metadata": {},
     "output_type": "execute_result"
    }
   ],
   "source": [
    "my_list[1]"
   ]
  },
  {
   "cell_type": "markdown",
   "metadata": {},
   "source": [
    "The first element is... 2?\n",
    "\n",
    "Python uses **0-indexing**; it is a zero-indexed language. The human way to read indices is to say `my_list[1]` is the first element, but this is not the computer way (although some other programming languages do use 1-indexing).\n",
    "\n",
    "Computers see it this way: The actual list is stored in 1s and 0s in your RAM, with each element being a separate entry. Your computer stores this kind of like spaces on a board game. The name `my_list` is a pointer to the space on the board where the first element is. From here, `mylist[0]` tells the computer \"go to `my_list` and move 0 spaces; `mylist[1]` says \"go to the space that my list is on and then move one more space,\" and so on.\n",
    "\n",
    "# Lists with One Kind of Element\n",
    "\n",
    "In data science, we'll usually be working with list-like objects rather than proper lists. These list-like objects are based on lists, but all of the elements are the same type. \n",
    "\n",
    "For this, we'll be using a **package** called `Numpy`. To bring in a package, we use the line of code `import numpy`. To use functions, we then write `numpy.array()` to make a numpy array. We are far too lazy, so instead we import it with an **alias**.\n"
   ]
  },
  {
   "cell_type": "code",
   "execution_count": 5,
   "metadata": {},
   "outputs": [
    {
     "data": {
      "text/plain": [
       "array(['1', '2.0', '3', 'True'], dtype='<U4')"
      ]
     },
     "execution_count": 5,
     "metadata": {},
     "output_type": "execute_result"
    }
   ],
   "source": [
    "import numpy as np\n",
    "\n",
    "# Create an array, which is a list where all of the \n",
    "# elements are the same type\n",
    "np.array([\"1\", 2.0, 3, True])"
   ]
  },
  {
   "cell_type": "markdown",
   "metadata": {},
   "source": [
    "As you can see, we gave numpy a list with a string, a float, an integer, and a boolean. The array came back as all strings. This is because anything can become a string, whereas only certain things can be converted into boolean. Another example: all ints can becomes floats, but not all floats can become ints. The hiearchy is as follows: booleans can always become integers (with False == 0 and True == 1), integers can become floats, and floats can become strings, but we can't always go backwards in the list."
   ]
  },
  {
   "cell_type": "code",
   "execution_count": 6,
   "metadata": {},
   "outputs": [
    {
     "data": {
      "text/plain": [
       "array([1, 2, 3, 1])"
      ]
     },
     "execution_count": 6,
     "metadata": {},
     "output_type": "execute_result"
    }
   ],
   "source": [
    "np.array([\"1\", 2.0, 3, True], dtype = \"int\")"
   ]
  },
  {
   "cell_type": "markdown",
   "metadata": {},
   "source": [
    "The `dtype` argument told numpy to force everything to be integers. The `\"1\"` is a string, this might have caused errors, but `1` can be cast as an integer so this worked. \n",
    "\n",
    "**Homework:** What would have happened if we included a float or string that could not be converted into an integer, e.g. if there were a 2.4 or \"two point four\" in the list?"
   ]
  },
  {
   "cell_type": "markdown",
   "metadata": {},
   "source": [
    "In the next code cell, I've dumped a bunch of syntax all over the screen. I've started adding comments to describe what's going on, but I got lazy. Your homework is to add descriptive comments to this notebook so that you know what's going on."
   ]
  },
  {
   "cell_type": "code",
   "execution_count": 14,
   "metadata": {},
   "outputs": [
    {
     "name": "stdout",
     "output_type": "stream",
     "text": [
      "[ 1  2  3  1  7  9 -2 -1]\n",
      "2\n",
      "[2 3 1]\n",
      "[1 2 3 1]\n",
      "[ 1  2  3  1  7  9 -2 -1]\n",
      "[1 3 7]\n",
      "[2 3 7]\n"
     ]
    }
   ],
   "source": [
    "my_ints = np.array([\"1\", 2.0, 3, True, 7, 9, \"-2\", -1], dtype = \"int\")\n",
    "print(my_ints)\n",
    "# I've added print() statements so the Python shows you the output of each line.\n",
    "# Without the print statements, Python evaluates it and moves on to the next line\n",
    "print(my_ints[1]) # second element only (one step from the start of the list). The output is NOT a list.\n",
    "print(my_ints[1:4]) # The second to the fourth element. \n",
    "# Note that the 4 refers to the fourth element but the 1 refers to the second. Python is weird.\n",
    "print(my_ints[:4]) # \n",
    "print(my_ints[:]) # The whole list\n",
    "print(my_ints[0:6:2]) # \n",
    "print(my_ints[[1, 2, 4]]) # "
   ]
  },
  {
   "cell_type": "markdown",
   "metadata": {},
   "source": [
    "# Functions, Methods, and Attributes\n",
    "\n",
    "We'll be doing a lot with arrays in the future, and there are three main ways we interact with them.\n",
    "\n",
    "- **Functions** take in 0 or more arguments and return something.\n",
    "    - `functionname(argument1, argument2, ...)`\n",
    "- **Methods** are like functions that are tied to a particular object.\n",
    "    - `object.method(argument1, argument2, ...)`\n",
    "- **Attributes** look like methods, but don't take arguments. Each object has attributes associated with it, and an attribute call just returns them. It doesn't calculate anything new.\n",
    "    - `object.attribute` \n",
    "        - Notice that there are no brackets."
   ]
  },
  {
   "cell_type": "code",
   "execution_count": 15,
   "metadata": {},
   "outputs": [
    {
     "name": "stdout",
     "output_type": "stream",
     "text": [
      "9\n",
      "9\n",
      "8\n"
     ]
    }
   ],
   "source": [
    "# The max function works on many different types of objects\n",
    "print(max(my_ints)) \n",
    "# Arrays have a \"max\" method (not all objects do)\n",
    "print(my_ints.max())\n",
    "# the size attribute is just how long the array is. \n",
    "print(my_ints.size) "
   ]
  },
  {
   "cell_type": "markdown",
   "metadata": {},
   "source": [
    "Finally, you can get help for each using the help function for functions and methods."
   ]
  },
  {
   "cell_type": "code",
   "execution_count": 16,
   "metadata": {},
   "outputs": [
    {
     "name": "stdout",
     "output_type": "stream",
     "text": [
      "Help on built-in function max in module builtins:\n",
      "\n",
      "max(...)\n",
      "    max(iterable, *[, default=obj, key=func]) -> value\n",
      "    max(arg1, arg2, *args, *[, key=func]) -> value\n",
      "    \n",
      "    With a single iterable argument, return its biggest item. The\n",
      "    default keyword-only argument specifies an object to return if\n",
      "    the provided iterable is empty.\n",
      "    With two or more arguments, return the largest argument.\n",
      "\n"
     ]
    }
   ],
   "source": [
    "help(max)"
   ]
  },
  {
   "cell_type": "code",
   "execution_count": 17,
   "metadata": {},
   "outputs": [
    {
     "name": "stdout",
     "output_type": "stream",
     "text": [
      "Help on built-in function max:\n",
      "\n",
      "max(...) method of numpy.ndarray instance\n",
      "    a.max(axis=None, out=None, keepdims=False, initial=<no value>, where=True)\n",
      "    \n",
      "    Return the maximum along a given axis.\n",
      "    \n",
      "    Refer to `numpy.amax` for full documentation.\n",
      "    \n",
      "    See Also\n",
      "    --------\n",
      "    numpy.amax : equivalent function\n",
      "\n"
     ]
    }
   ],
   "source": [
    "help(my_ints.max)"
   ]
  },
  {
   "cell_type": "markdown",
   "metadata": {},
   "source": [
    "This concludes the introduction. Most of what you'll learn is:\n",
    "\n",
    "- Programming concepts, like for loops.\n",
    "- New object types, such as data frames and objects that are the result of models.\n",
    "- New functions\n",
    "- New methods\n",
    "\n",
    "I recommend keeping a running list of objects and functions/methods that you encounter, along with a brief example. Create your own ipython notebook so that you can explain everything to yourself.\n",
    "\n",
    "# Further Reading\n",
    "\n",
    "The following links provide a little bit more information, but are not necessary. All of these links are from W3Schools, which is a fantastic reference but it is very dry and would be very difficult to use as the main learning resource. Remember the rules from above!\n",
    "\n",
    "- https://www.w3schools.com/python/python_casting.asp Converting types) (a.k.a. **casting**)\n",
    "- https://www.w3schools.com/python/python_datatypes.asp Other data types\n",
    "    - Not required for this module, but will be important for you eventually.\n",
    "- https://www.w3schools.com/python/numpy_intro.asp Intro to Numpy\n",
    "\n",
    "\n"
   ]
  }
 ],
 "metadata": {
  "kernelspec": {
   "display_name": "Python 3",
   "language": "python",
   "name": "python3"
  },
  "language_info": {
   "codemirror_mode": {
    "name": "ipython",
    "version": 3
   },
   "file_extension": ".py",
   "mimetype": "text/x-python",
   "name": "python",
   "nbconvert_exporter": "python",
   "pygments_lexer": "ipython3",
   "version": "3.6.4"
  }
 },
 "nbformat": 4,
 "nbformat_minor": 2
}
