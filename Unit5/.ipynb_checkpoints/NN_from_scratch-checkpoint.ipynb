{
 "cells": [
  {
   "cell_type": "markdown",
   "metadata": {},
   "source": [
    "# NN from scratch -- Optional Read\n",
    "\n",
    "Here, I explain how to make a simple Neural Network (NN) from scratch. This is a very simple case of NN and it is built to show how NNs work step by step.\n",
    "\n",
    "--- This notebook is being completed"
   ]
  },
  {
   "cell_type": "code",
   "execution_count": 14,
   "metadata": {},
   "outputs": [],
   "source": [
    "from random import seed\n",
    "import random\n"
   ]
  },
  {
   "cell_type": "markdown",
   "metadata": {},
   "source": [
    "Here, as mentioned in Lesson2 of this chapter we need to define the main elements of the NN. So, we need to make an NN with predefined number of hidden layers (number of inputs and outputs will be dictated from the training set).\n",
    "\n",
    "The value of 'weights' are randomly selected (any number between 0 and 1). Remeber, that the goal of any NN is to find the optimize value for 'weights'"
   ]
  },
  {
   "cell_type": "code",
   "execution_count": 17,
   "metadata": {},
   "outputs": [],
   "source": [
    "def initialize_network(n_inputs, n_hidden, n_outputs):\n",
    "    network = list()\n",
    "    # random.random() returns random numbers between 0 and 1. \n",
    "    hidden_layer = [{'weights':[random.random() for i in range(n_inputs + 1)]} for i in range(n_hidden)]\n",
    "    network.append(hidden_layer)\n",
    "    output_layer = [{'weights':[random.random() for i in range(n_hidden + 1)]} for i in range(n_outputs)]\n",
    "    network.append(output_layer)\n",
    "    return network\n",
    "\n"
   ]
  },
  {
   "cell_type": "markdown",
   "metadata": {},
   "source": [
    "To see, how the network initializer work, I gave the function:\n",
    "\n",
    "- n_input = 5\n",
    "- n_hidden = 1\n",
    "- n_output = 3\n",
    "\n",
    "meaning that I have 5 input features and I only have one hidden layer, and I have 3 taregt values."
   ]
  },
  {
   "cell_type": "code",
   "execution_count": 18,
   "metadata": {},
   "outputs": [
    {
     "data": {
      "text/plain": [
       "[[{'weights': [0.25875219980072706,\n",
       "    0.37482117194769426,\n",
       "    0.45875257365720057,\n",
       "    0.011817026301131461,\n",
       "    0.224613795209612,\n",
       "    0.37397971225760895]}],\n",
       " [{'weights': [0.8999942271560633, 0.7471502367075846]},\n",
       "  {'weights': [0.08638814317688359, 0.8307842095658364]},\n",
       "  {'weights': [0.0031552360204096797, 0.6662340299821479]}]]"
      ]
     },
     "execution_count": 18,
     "metadata": {},
     "output_type": "execute_result"
    }
   ],
   "source": [
    "initialize_network(5, 1, 3)"
   ]
  },
  {
   "cell_type": "code",
   "execution_count": null,
   "metadata": {},
   "outputs": [],
   "source": []
  }
 ],
 "metadata": {
  "kernelspec": {
   "display_name": "Python 3",
   "language": "python",
   "name": "python3"
  },
  "language_info": {
   "codemirror_mode": {
    "name": "ipython",
    "version": 3
   },
   "file_extension": ".py",
   "mimetype": "text/x-python",
   "name": "python",
   "nbconvert_exporter": "python",
   "pygments_lexer": "ipython3",
   "version": "3.8.5"
  }
 },
 "nbformat": 4,
 "nbformat_minor": 4
}
